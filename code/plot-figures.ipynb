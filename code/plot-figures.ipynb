{
 "cells": [
  {
   "cell_type": "code",
   "execution_count": 9,
   "metadata": {},
   "outputs": [],
   "source": [
    "import networkx as nx\n",
    "import numpy as np\n",
    "import matplotlib.pyplot as plt"
   ]
  },
  {
   "cell_type": "code",
   "execution_count": 28,
   "metadata": {},
   "outputs": [
    {
     "data": {
      "image/png": "[encoded data removed]",
      "text/plain": [
       "<Figure size 400x400 with 1 Axes>"
      ]
     },
     "metadata": {},
     "output_type": "display_data"
    },
    {
     "data": {
      "image/png": "[encoded data removed]",
      "text/plain": [
       "<Figure size 400x400 with 1 Axes>"
      ]
     },
     "metadata": {},
     "output_type": "display_data"
    }
   ],
   "source": [
    "# Draw G1 and G2\n",
    "\n",
    "# Create graph\n",
    "G = nx.Graph()\n",
    "n1 = 'u'\n",
    "n2 = 'v'\n",
    "n3 = 'w'\n",
    "G.add_nodes_from([\n",
    "    (n1, dict(name=\"$u$\", label1=\"$1$\", label2=\"$2$\")),\n",
    "    (n2, dict(name=\"$v$\", label1=\"$2$\", label2=\"$1$\")),\n",
    "    (n3, dict(name=\"$w$\", label1=\"$1$\", label2=\"$2$\")),\n",
    "])\n",
    "G.add_edge(n1, n2)\n",
    "G.add_edge(n2, n3)\n",
    "\n",
    "# Set node positions\n",
    "theta = np.pi * 60 / 180\n",
    "positions = np.array([\n",
    "    [-1, 0],\n",
    "    [0, 0],\n",
    "    [np.cos(theta), -np.sin(theta)],\n",
    "])\n",
    "positions *= 0.8\n",
    "positions -= positions.mean(axis=0)  # center the positions\n",
    "node_pos = {\n",
    "    'u': positions[0],\n",
    "    'v': positions[1],\n",
    "    'w': positions[2]\n",
    "}\n",
    "\n",
    "# Set label positions\n",
    "label_positions = positions + np.array([0.1, 0.15])\n",
    "label_pos = {\n",
    "    'u': label_positions[0],\n",
    "    'v': label_positions[1],\n",
    "    'w': label_positions[2]\n",
    "}\n",
    "\n",
    "# Labels to display\n",
    "node_names = {node: data['name'] for node, data in G.nodes(data=True)}\n",
    "node_labels1 = {node: data['label1'] for node, data in G.nodes(data=True)}\n",
    "node_labels2 = {node: data['label2'] for node, data in G.nodes(data=True)}\n",
    "\n",
    "# Draw G1\n",
    "plt.figure(frameon=False, figsize=(4, 4))\n",
    "plt.xlim(-1,1)\n",
    "plt.ylim(-1,1)\n",
    "nx.draw_networkx_nodes(G, node_pos, node_size=500, node_color='white', edgecolors='black')\n",
    "nx.draw_networkx_labels(G, labels=node_names, pos=node_pos)\n",
    "nx.draw_networkx_labels(G, labels=node_labels1, pos=label_pos)\n",
    "nx.draw_networkx_edges(G, node_pos, edgelist=G.edges())\n",
    "plt.show()\n",
    "\n",
    "# Draw G2\n",
    "plt.figure(frameon=False, figsize=(4, 4))\n",
    "plt.xlim(-1,1)\n",
    "plt.ylim(-1,1)\n",
    "nx.draw_networkx_nodes(G, node_pos, node_size=500, node_color='white', edgecolors='black')\n",
    "nx.draw_networkx_labels(G, labels=node_names, pos=node_pos)\n",
    "nx.draw_networkx_labels(G, labels=node_labels2, pos=label_pos)\n",
    "nx.draw_networkx_edges(G, node_pos, edgelist=G.edges())\n",
    "plt.show()"
   ]
  },
  {
   "cell_type": "code",
   "execution_count": 30,
   "metadata": {},
   "outputs": [
    {
     "ename": "SyntaxError",
     "evalue": "(unicode error) 'unicodeescape' codec can't decode bytes in position 1-2: truncated \\xXX escape (1067174088.py, line 9)",
     "output_type": "error",
     "traceback": [
      "\u001b[1;36m  Cell \u001b[1;32mIn[30], line 9\u001b[1;36m\u001b[0m\n\u001b[1;33m    (n1, dict(name=\"$uv$\", label1=\"$\\xi (\\{1,2\\}$\")),\u001b[0m\n\u001b[1;37m                                  ^\u001b[0m\n\u001b[1;31mSyntaxError\u001b[0m\u001b[1;31m:\u001b[0m (unicode error) 'unicodeescape' codec can't decode bytes in position 1-2: truncated \\xXX escape\n"
     ]
    }
   ],
   "source": [
    "# Draw L(G1) and L(G2)\n",
    "\n",
    "# Create line graph\n",
    "# Create graph\n",
    "LG = nx.Graph()\n",
    "n1 = 'uv'\n",
    "n2 = 'vw'\n",
    "LG.add_nodes_from([\n",
    "    (n1, dict(name=\"$uv$\", label1=\"$\\xi (\\{1,2\\}$\")),\n",
    "    (n2, dict(name=\"$vw$\", label1=\"$\\xi (\\{1,2\\}$$\")),\n",
    "])\n",
    "LG.add_edge(n1, n2)\n",
    "\n",
    "# Set node positions\n",
    "theta = np.pi * 60 / 180\n",
    "positions = np.array([\n",
    "    [-1/2, 0],\n",
    "    [1/2*np.cos(theta), -1/2*np.sin(theta)],\n",
    "])\n",
    "positions *= 0.8\n",
    "positions -= positions.mean(axis=0)  # center the positions\n",
    "node_pos = {\n",
    "    'uv': positions[0],\n",
    "    'vw': positions[1],\n",
    "}\n",
    "\n",
    "# Set label positions\n",
    "label_positions = positions + np.array([0.1, 0.15])\n",
    "label_pos = {\n",
    "    'uv': label_positions[0],\n",
    "    'vw': label_positions[1],\n",
    "}\n",
    "\n",
    "# Labels to display\n",
    "node_names = {node: data['name'] for node, data in LG.nodes(data=True)}\n",
    "node_labels1 = {node: data['label1'] for node, data in LG.nodes(data=True)}\n",
    "node_labels2 = {node: data['label2'] for node, data in LG.nodes(data=True)}\n",
    "\n",
    "# Draw G1\n",
    "plt.figure(frameon=False, figsize=(4, 4))\n",
    "plt.xlim(-1,1)\n",
    "plt.ylim(-1,1)\n",
    "nx.draw_networkx_nodes(LG, node_pos, node_size=500, node_color='white', edgecolors='black')\n",
    "nx.draw_networkx_labels(LG, labels=node_names, pos=node_pos)\n",
    "nx.draw_networkx_labels(LG, labels=node_labels1, pos=label_pos)\n",
    "nx.draw_networkx_edges(LG, node_pos, edgelist=LG.edges())\n",
    "plt.show()"
   ]
  },
  {
   "cell_type": "code",
   "execution_count": null,
   "metadata": {},
   "outputs": [],
   "source": []
  },
  {
   "cell_type": "code",
   "execution_count": null,
   "metadata": {},
   "outputs": [],
   "source": []
  }
 ],
 "metadata": {
  "kernelspec": {
   "display_name": "OxPracticals",
   "language": "python",
   "name": "python3"
  },
  "language_info": {
   "codemirror_mode": {
    "name": "ipython",
    "version": 3
   },
   "file_extension": ".py",
   "mimetype": "text/x-python",
   "name": "python",
   "nbconvert_exporter": "python",
   "pygments_lexer": "ipython3",
   "version": "3.12.1"
  }
 },
 "nbformat": 4,
 "nbformat_minor": 2
}
